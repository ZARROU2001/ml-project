{
 "cells": [
  {
   "cell_type": "code",
   "execution_count": 1,
   "id": "1addb6ca-ab96-43d3-8adc-f93dd836d6b0",
   "metadata": {},
   "outputs": [
    {
     "name": "stdout",
     "output_type": "stream",
     "text": [
      "Requirement already satisfied: opencv-python in c:\\users\\acer\\appdata\\local\\programs\\python\\python312\\lib\\site-packages (4.9.0.80)Note: you may need to restart the kernel to use updated packages.\n",
      "\n",
      "Requirement already satisfied: numpy>=1.21.2 in c:\\users\\acer\\appdata\\local\\programs\\python\\python312\\lib\\site-packages (from opencv-python) (1.26.3)\n"
     ]
    },
    {
     "name": "stderr",
     "output_type": "stream",
     "text": [
      "\n",
      "[notice] A new release of pip is available: 23.3.2 -> 24.0\n",
      "[notice] To update, run: python.exe -m pip install --upgrade pip\n"
     ]
    }
   ],
   "source": [
    "pip install opencv-python"
   ]
  },
  {
   "cell_type": "code",
   "execution_count": 2,
   "id": "578f96db-4d50-4427-9225-0593d144a258",
   "metadata": {},
   "outputs": [],
   "source": [
    "import os\n",
    "import numpy as np\n",
    "import cv2  # OpenCV pour charger et prétraiter les images\n",
    "from sklearn.model_selection import train_test_split\n",
    "from sklearn.ensemble import RandomForestClassifier\n",
    "from sklearn.metrics import accuracy_score\n",
    "\n",
    "# Chemin vers le dataset\n",
    "data_dir = 'C:\\\\dataset\\\\malware_dataset\\\\train'\n"
   ]
  },
  {
   "cell_type": "code",
   "execution_count": 3,
   "id": "b9649dab-ddb8-4f2a-8742-fa8d05b03bcb",
   "metadata": {},
   "outputs": [],
   "source": [
    "# Fonction pour charger les images et leurs étiquettes\n",
    "def load_images_and_labels(data_dir):\n",
    "    images = []\n",
    "    labels = []\n",
    "    for label in os.listdir(data_dir):\n",
    "        label_dir = os.path.join(data_dir, label)\n",
    "        if os.path.isdir(label_dir):\n",
    "            for file_name in os.listdir(label_dir):\n",
    "                file_path = os.path.join(label_dir, file_name)\n",
    "                image = cv2.imread(file_path, cv2.IMREAD_GRAYSCALE)  # Charger en niveau de gris\n",
    "                if image is not None:\n",
    "                    images.append(image)\n",
    "                    labels.append(label)\n",
    "    return images, labels\n",
    "\n",
    "images, labels = load_images_and_labels(data_dir)"
   ]
  },
  {
   "cell_type": "code",
   "execution_count": 4,
   "id": "f48f7896-47a2-4663-adf0-bf38f59018cc",
   "metadata": {},
   "outputs": [],
   "source": [
    "# Fonction pour redimensionner et aplatir les images\n",
    "def preprocess_images(images, size=(64, 64)):\n",
    "    processed_images = []\n",
    "    for image in images:\n",
    "        resized_image = cv2.resize(image, size)\n",
    "        flattened_image = resized_image.flatten()\n",
    "        processed_images.append(flattened_image)\n",
    "    return np.array(processed_images)\n",
    "\n",
    "X = preprocess_images(images)\n",
    "y = np.array(labels)"
   ]
  },
  {
   "cell_type": "code",
   "execution_count": 5,
   "id": "5a2b3a5d-1080-4212-8e97-8341987c88f0",
   "metadata": {},
   "outputs": [],
   "source": [
    "# Diviser les données en ensembles d'entraînement et de test\n",
    "X_train, X_test, y_train, y_test = train_test_split(X, y, test_size=0.2, random_state=42)"
   ]
  },
  {
   "cell_type": "code",
   "execution_count": null,
   "id": "fd5e1f88-1abd-4dc3-af48-28876f92f154",
   "metadata": {},
   "outputs": [],
   "source": [
    "# Entraîner le modèle Random Forest\n",
    "rf_model = RandomForestClassifier(n_estimators=100, random_state=42)\n",
    "rf_model.fit(X_train, y_train)"
   ]
  },
  {
   "cell_type": "code",
   "execution_count": null,
   "id": "1bf62123-4d98-44c1-86ab-828cb8fef938",
   "metadata": {},
   "outputs": [],
   "source": [
    "# Prédire les étiquettes sur l'ensemble de test\n",
    "y_pred = rf_model.predict(X_test)"
   ]
  },
  {
   "cell_type": "code",
   "execution_count": null,
   "id": "88bec9eb-0695-4dc2-9c31-4c29819eaa47",
   "metadata": {},
   "outputs": [],
   "source": [
    "# Calculer l'accuracy\n",
    "accuracy = accuracy_score(y_test, y_pred)\n",
    "print(f'Accuracy: {accuracy}')"
   ]
  },
  {
   "cell_type": "code",
   "execution_count": null,
   "id": "d93b6448-7f22-43b1-80ca-f951b86b0787",
   "metadata": {},
   "outputs": [],
   "source": [
    "from joblib import dump\n",
    "# Sauvegarde du modèle dans un fichier .pkl\n",
    "dump(rf_model, 'random_forest_model.pkl')\n",
    "\n",
    "print(\"Le modèle Random Forest a été sauvegardé avec succès.\")"
   ]
  },
  {
   "cell_type": "code",
   "execution_count": null,
   "id": "66bbec88-dae8-4324-8eee-a50bfa1fe417",
   "metadata": {},
   "outputs": [],
   "source": []
  }
 ],
 "metadata": {
  "kernelspec": {
   "display_name": "Python 3 (ipykernel)",
   "language": "python",
   "name": "python3"
  },
  "language_info": {
   "codemirror_mode": {
    "name": "ipython",
    "version": 3
   },
   "file_extension": ".py",
   "mimetype": "text/x-python",
   "name": "python",
   "nbconvert_exporter": "python",
   "pygments_lexer": "ipython3",
   "version": "3.12.0"
  }
 },
 "nbformat": 4,
 "nbformat_minor": 5
}
